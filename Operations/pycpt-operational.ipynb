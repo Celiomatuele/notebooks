{
 "cells": [
  {
   "cell_type": "markdown",
   "id": "2c986233",
   "metadata": {
    "deletable": false,
    "editable": false
   },
   "source": [
    "# PyCPT Version 2.2dev\n",
    "\n",
    "This is an example of a PyCPT Version 2 seasonal climate forecasting workflow. This notebook can be adapted to suit your exact needs through modifications of the code. This notebook uses PyCPT v2 utilities to \n",
    "\n",
    "1. download data from the IRI Data Library (through the CPT-DL python library) \n",
    "2. Run bias-correction using the IRI Climate Predictability Tool (through its companion python library, CPT-CORE) \n",
    "3. Plot skills scores and spatial loadings\n",
    "4. Produce a multi-model ensemble forecast by taking the simple average of the bias-corrected members\n",
    "5. Plots skill scores, deterministic forecasts, probabilistic forecasts, and exceedance probabilities for this NextGen MME forecast. \n",
    "\n",
    "PyCPT Version 2 was primarily designed and implemented by Kyle Hall"
   ]
  },
  {
   "cell_type": "markdown",
   "id": "f3e5adcf",
   "metadata": {},
   "source": [
    "#### Imports - This cell imports PyCPTv2 libraries "
   ]
  },
  {
   "cell_type": "code",
   "execution_count": null,
   "id": "c9fb2b87",
   "metadata": {
    "deletable": false
   },
   "outputs": [],
   "source": [
    "import cptdl as dl \n",
    "import cptcore as cc \n",
    "import cptextras as ce\n",
    "import datetime as dt\n",
    "import numpy as np\n",
    "from pathlib import Path\n",
    "from scipy.stats import norm, t\n",
    "import xarray as xr \n",
    "\n",
    "import notebook"
   ]
  },
  {
   "cell_type": "markdown",
   "id": "6040d9b2",
   "metadata": {},
   "source": [
    "#### Define Case Directory"
   ]
  },
  {
   "cell_type": "code",
   "execution_count": null,
   "id": "28ef6b62",
   "metadata": {},
   "outputs": [],
   "source": [
    "caseDir = \"pycpt_WAfricaJAS_startJun\"  "
   ]
  },
  {
   "cell_type": "markdown",
   "id": "eac4d5ef",
   "metadata": {
    "deletable": false,
    "editable": false
   },
   "source": [
    "#### Parameters - This cell defines the parameters of your analysis"
   ]
  },
  {
   "cell_type": "code",
   "execution_count": null,
   "id": "076ded6b",
   "metadata": {},
   "outputs": [],
   "source": [
    "MOS = 'CCA' # must be one of 'CCA', 'PCR', or \"None\"\n",
    "predictor_names = [ \"SPEAR.PRCP\", \"CCSM4.PRCP\", \"CanSIPSIC3.PRCP\",\"CFSv2.PRCP\",\"GEOSS2S.PRCP\"]# ['CFSv2.PRCP','SEAS5.PRCP']\n",
    "predictand_name = 'UCSB.PRCP'\n",
    "\n",
    "#predictor_names = ['SPEAR.TMAX','CanSIPSIC3.TMAX']\n",
    "#predictand_name = 'UCSB.TMAX'\n",
    "\n",
    "# use dl.observations.keys() to see all options for predictand \n",
    "# and dl.hindcasts.keys() to see all options for predictors\n",
    "# make sure your first_year & final_year are compatible with \n",
    "# your selections for your predictors and predictands \n",
    "\n",
    "download_args = { \n",
    "   # 'fdate':\n",
    "   #   the initialization date of the model forecasts / hindcasts\n",
    "   #   this field is defined by a python datetime.datetime object\n",
    "   #   for example: dt.datetime(2022, 5, 1) # YYYY, MM, DD as integers\n",
    "   #   The year field is only used for forecasts, otherwise ignored\n",
    "   #   The day field is only used in subseasonal forecasts, otherwise ignored\n",
    "   #   The month field is an integer representing a month - ie, May=5\n",
    "  'fdate':  dt.datetime(2023, 2, 1), #dt.datetime(2022, 6, 1),  \n",
    "    \n",
    "   # 'first_year':\n",
    "   #   the first year of hindcasts you want. **NOT ALL MODELS HAVE ALL YEARS**\n",
    "   #   double check that your model has hindcast data for all years in [first_year, final_year]\n",
    "   #   This field is defined by a python integer representing a year, ie: 1993\n",
    "  'first_year': 1991,  \n",
    "    \n",
    "   # 'final_year':\n",
    "   #   the final year of hindcasts you want. **NOT ALL MODELS HAVE ALL YEARS**\n",
    "   #   double check that your model has hindcast data for all years in [first_year, final_year]\n",
    "   #   This field is defined by a python integer representing a year, ie: 2016\n",
    "  'final_year': 2020,  \n",
    "    \n",
    "   # 'predictor_extent':\n",
    "   #   The geographic bounding box of the climate model data you want to download\n",
    "   #   This field is defined by a python dictionary with the keys \"north\", \"south\",\n",
    "   #   \"east\", and \"west\", each of which maps to a python integer representing the \n",
    "   #   edge of a bounding box. i.e., \"north\" will be the northernmost boundary,\n",
    "   #   \"south\" the southernmost boundary. Example: {\"north\": 90, \"south\": 90, \"east\": 0, \"west\": 180}\n",
    "  'predictor_extent': {\n",
    "    'east':  -67, #20,\n",
    "    'west': -78, #-20, \n",
    "    'north': -18, #20,\n",
    "    'south': -57 #0 \n",
    "  }, \n",
    "    \n",
    "   # 'predictand_extent':\n",
    "   #   The geographic bounding box of the observation data you want to download\n",
    "   #   This field is defined by a python dictionary with the keys \"north\", \"south\",\n",
    "   #   \"east\", and \"west\", each of which maps to a python integer representing the \n",
    "   #   edge of a bounding box. i.e., \"north\" will be the northernmost boundary,\n",
    "   #   \"south\" the southernmost boundary. Example: {\"north\": 90, \"south\": 90, \"east\": 0, \"west\": 180}\n",
    "  'predictand_extent': {\n",
    "    'east':  -67, #10, \n",
    "    'west': -78, #-18,  \n",
    "    'north': -18, #18,  \n",
    "    'south': -57 #3 \n",
    "  },\n",
    "\n",
    "    \n",
    "   # 'lead_low': \n",
    "   #   the number of months from the first of the initialization month to the center of \n",
    "   #   the first month included in the target period. Always an integer + 0.5. \n",
    "   #   this field is defined by a python floating point number \n",
    "   #   for example  a lead-1 forecast would use lead_low=1.5, if you want init=may, target=Jun-..\n",
    "  'lead_low': 1.5,\n",
    "    \n",
    "   # 'lead_high': \n",
    "   #   the number of months from the first of the initialization month to the center of \n",
    "   #   the last month included in the target period. Always an integer + 0.5. \n",
    "   #   this field is defined by a python floating point number \n",
    "   #   for example  a forecast initialized in may, whose target period ended in Aug, \n",
    "   #   would use lead_high=3.5\n",
    "  'lead_high': 3.5, \n",
    "    \n",
    "   # 'target': \n",
    "   #   Mmm-Mmm indicating the months included in the target period of the forecast. \n",
    "   #   this field is defined by a python string, with two three-letter month name abbreviations \n",
    "   #   whose first letters are capitalized, and all other letters are lowercase\n",
    "   #   and who are separated by a dash character. \n",
    "   #   for example, if you wanted a JJA target period, you would use 'Jun-Aug'\n",
    "  'target': 'Mar-May',#'Jul-Sep',\n",
    "    \n",
    "   # 'filetype':\n",
    "   #   the filetype to be downloaded. for now, it saves a lot of headache just to set this equal\n",
    "   #   to 'cptv10.tsv' which is a boutique plain-text CPT filetype based on .tsv + metadata\n",
    "  'filetype': 'cptv10.tsv'\n",
    "}\n",
    "\n",
    "cpt_args = { \n",
    "    'transform_predictand': None,  # transformation to apply to the predictand dataset - None, 'Empirical', 'Gamma'\n",
    "    'tailoring': None,  # tailoring None, 'Anomaly', 'StdAnomaly', or 'SPI' (SPI only available on Gamma)\n",
    "    'cca_modes': (1,3), # minimum and maximum of allowed CCA modes \n",
    "    'x_eof_modes': (1,8), # minimum and maximum of allowed X Principal Componenets \n",
    "    'y_eof_modes': (1,6), # minimum and maximum of allowed Y Principal Components \n",
    "    'validation': 'crossvalidation', # the type of validation to use - crossvalidation, retroactive, or doublecrossvalidation\n",
    "    'drymask': False, #whether or not to use a drymask of -999\n",
    "    'scree': True, # whether or not to save % explained variance for eof modes\n",
    "    'crossvalidation_window': 5,  # number of samples to leave out in each cross-validation step \n",
    "    'synchronous_predictors': True, # whether or not we are using 'synchronous predictors'\n",
    "}\n",
    "\n",
    "\n",
    "force_download = True"
   ]
  },
  {
   "cell_type": "code",
   "execution_count": null,
   "id": "c288937d",
   "metadata": {},
   "outputs": [],
   "source": [
    "files_root = notebook.setup(download_args, caseDir)\n",
    "outputDir = files_root / \"output\""
   ]
  },
  {
   "cell_type": "code",
   "execution_count": null,
   "id": "95274754",
   "metadata": {},
   "outputs": [],
   "source": [
    "# Uncomment the following line & change the config filepath to save this configuration: \n",
    "config_file = ce.save_configuration(caseDir+'.config', download_args, cpt_args, MOS, predictor_names, predictand_name )\n",
    "\n",
    "# Uncomment the following line & change the config filepath to load an existing configuration: \n",
    "#MOS, download_args, cpt_args, predictor_names, predictand_name = ce.load_configuration('test1.config')"
   ]
  },
  {
   "cell_type": "markdown",
   "id": "656bb870",
   "metadata": {
    "deletable": false,
    "editable": false
   },
   "source": [
    "#### Download Observations, Hindcasts, and Forecasts"
   ]
  },
  {
   "cell_type": "code",
   "execution_count": null,
   "id": "abc64025",
   "metadata": {
    "deletable": false
   },
   "outputs": [],
   "source": [
    "Y, hindcast_data, forecast_data = notebook.download_data(predictand_name, predictor_names, download_args, files_root, force_download)"
   ]
  },
  {
   "cell_type": "markdown",
   "id": "1aa7f936",
   "metadata": {
    "deletable": false,
    "editable": false
   },
   "source": [
    "#### Perform Analysis "
   ]
  },
  {
   "cell_type": "code",
   "execution_count": null,
   "id": "cdfabb00",
   "metadata": {
    "deletable": false,
    "scrolled": false
   },
   "outputs": [],
   "source": [
    "hcsts, fcsts, skill, pxs, pys = notebook.evaluate_models(hindcast_data, MOS, Y, forecast_data, cpt_args, outputDir, predictor_names)"
   ]
  },
  {
   "cell_type": "markdown",
   "id": "131a4b78",
   "metadata": {
    "deletable": false,
    "editable": false
   },
   "source": [
    "#### Plot skill "
   ]
  },
  {
   "cell_type": "code",
   "execution_count": null,
   "id": "547ab283",
   "metadata": {},
   "outputs": [],
   "source": [
    "notebook.plot_skill(predictor_names, skill, MOS, files_root)"
   ]
  },
  {
   "cell_type": "markdown",
   "id": "a9d1e997",
   "metadata": {},
   "source": [
    "#### Plot CCA Modes"
   ]
  },
  {
   "cell_type": "code",
   "execution_count": null,
   "id": "0815b054",
   "metadata": {
    "scrolled": false
   },
   "outputs": [],
   "source": [
    "notebook.plot_cca_modes(MOS, predictor_names, pxs, pys, files_root)"
   ]
  },
  {
   "cell_type": "markdown",
   "id": "84e75135",
   "metadata": {},
   "source": [
    "#### Plot EOF Modes"
   ]
  },
  {
   "cell_type": "code",
   "execution_count": null,
   "id": "e9052e2b",
   "metadata": {
    "scrolled": true
   },
   "outputs": [],
   "source": [
    "notebook.plot_eof_modes(MOS, predictor_names, pxs, pys, files_root)"
   ]
  },
  {
   "cell_type": "markdown",
   "id": "20ee7ea4",
   "metadata": {},
   "source": [
    "#### Plot Forecasts"
   ]
  },
  {
   "cell_type": "code",
   "execution_count": null,
   "id": "d8240bd6",
   "metadata": {
    "deletable": false
   },
   "outputs": [],
   "source": [
    "notebook.plot_forecasts(cpt_args, predictand_name, fcsts, files_root, predictor_names, MOS)"
   ]
  },
  {
   "cell_type": "markdown",
   "id": "58ff6273",
   "metadata": {},
   "source": [
    "# Multi-Model Ensemble"
   ]
  },
  {
   "cell_type": "code",
   "execution_count": null,
   "id": "e05bf9e7",
   "metadata": {
    "scrolled": true
   },
   "outputs": [],
   "source": [
    "#ensemble = ['CFSv2.PRCP','SEAS5.PRCP']\n",
    "ensemble = predictor_names\n",
    "\n",
    "det_fcst, pr_fcst, pev_fcst, nextgen_skill = notebook.construct_mme(fcsts, hcsts, Y, ensemble, predictor_names, cpt_args, outputDir)"
   ]
  },
  {
   "cell_type": "markdown",
   "id": "f2904eba",
   "metadata": {},
   "source": [
    "#### Plot MME Forecast Skill"
   ]
  },
  {
   "cell_type": "code",
   "execution_count": null,
   "id": "2243b1b5",
   "metadata": {
    "scrolled": false
   },
   "outputs": [],
   "source": [
    "notebook.plot_mme_skill(predictor_names, nextgen_skill, MOS, files_root)"
   ]
  },
  {
   "cell_type": "markdown",
   "id": "d223d52d",
   "metadata": {},
   "source": [
    "#### Plot MME Forecasts"
   ]
  },
  {
   "cell_type": "code",
   "execution_count": null,
   "id": "1f8c22a0",
   "metadata": {
    "scrolled": true
   },
   "outputs": [],
   "source": [
    "notebook.plot_mme_forecasts(cpt_args, predictand_name, pr_fcst, MOS, files_root, det_fcst)"
   ]
  },
  {
   "cell_type": "markdown",
   "id": "aaae1ace",
   "metadata": {},
   "source": [
    "#### Construct MME Flexible Forecasts"
   ]
  },
  {
   "cell_type": "code",
   "execution_count": null,
   "id": "cc5d97c8",
   "metadata": {},
   "outputs": [],
   "source": [
    "# if 'isPercentile is True, the threshold is a percentile (e.g., 0.5)\n",
    "# else in the unit of the predictand (e.g., mm, degC, ...)\n",
    "threshold = 0.5\n",
    "isPercentile = True\n",
    "\n",
    "exceedance_prob, fcst_scale, climo_scale, fcst_mu, climo_mu, Y2, ntrain, transformed_threshold = notebook.construct_flex_fcst(MOS, cpt_args, det_fcst, threshold, isPercentile, Y, pev_fcst)"
   ]
  },
  {
   "cell_type": "markdown",
   "id": "743fc138",
   "metadata": {},
   "source": [
    "#### Plot Flexible MME Forecasts"
   ]
  },
  {
   "cell_type": "code",
   "execution_count": null,
   "id": "5d6d235b",
   "metadata": {
    "deletable": false
   },
   "outputs": [],
   "source": [
    "# Choose a gridpoint within the predictand domain to plot the forecast and climatological\n",
    "# probability of exceedance and PDF curves. If set to None, the centroid of the predictand\n",
    "# domain will be used.\n",
    "\n",
    "point_latitude = None\n",
    "point_longitude = None\n",
    "\n",
    "notebook.plot_mme_flex_forecasts(predictand_name, exceedance_prob, point_latitude, point_longitude, download_args[\"predictand_extent\"], transformed_threshold, fcst_scale, climo_scale, fcst_mu, climo_mu, Y2, cpt_args['transform_predictand'], ntrain, Y, MOS, files_root)"
   ]
  }
 ],
 "metadata": {
  "celltoolbar": "Edit Metadata",
  "kernelspec": {
   "display_name": "Python 3 (ipykernel)",
   "language": "python",
   "name": "python3"
  },
  "language_info": {
   "codemirror_mode": {
    "name": "ipython",
    "version": 3
   },
   "file_extension": ".py",
   "mimetype": "text/x-python",
   "name": "python",
   "nbconvert_exporter": "python",
   "pygments_lexer": "ipython3",
   "version": "3.10.9"
  }
 },
 "nbformat": 4,
 "nbformat_minor": 5
}
